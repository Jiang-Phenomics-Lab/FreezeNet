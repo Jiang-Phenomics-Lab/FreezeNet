{
 "cells": [
  {
   "cell_type": "code",
   "execution_count": 3,
   "id": "f02f13d9-c938-4144-aec0-bbf62e8b4952",
   "metadata": {
    "tags": []
   },
   "outputs": [],
   "source": [
    "import cv2\n",
    "import numpy as np\n",
    "import torch\n",
    "import torch.nn.functional as F\n",
    "from PIL import Image\n",
    "from torch import nn\n",
    "\n",
    "from nets.liteNet import FreezyNet\n",
    "\n",
    "from glob import glob\n",
    "import random\n",
    "import matplotlib.pyplot as plt\n",
    "import torch.nn.functional as F\n",
    "from tqdm import tqdm\n",
    "import os\n",
    "import pandas as pd\n"
   ]
  },
  {
   "cell_type": "code",
   "execution_count": 2,
   "id": "8a1f6410-7158-4783-9d3b-b8683caaf7e6",
   "metadata": {
    "tags": []
   },
   "outputs": [],
   "source": [
    "def average_non_zero_pixel(gray_image):\n",
    "    non_zero_indices = np.nonzero(gray_image)\n",
    "    non_zero_values = gray_image[non_zero_indices]\n",
    "    average_value = np.mean(non_zero_values)\n",
    "    return average_value\n",
    "\n",
    "def get_green_yello_ratio(new,mask):\n",
    "    hsv=cv2.cvtColor(new,cv2.COLOR_BGR2HSV)\n",
    "    lower_green = np.array([25, 45, 0])\n",
    "    upper_green = np.array([180, 255, 240])\n",
    "    \n",
    "    green_mask = cv2.inRange(hsv, lower_green, upper_green)\n",
    "    new1 = cv2.bitwise_and(new,new,mask=green_mask)\n",
    "    yellow_mask=255*mask-green_mask\n",
    "    yellow_hsv=cv2.bitwise_and(hsv,hsv,mask=yellow_mask)\n",
    "    green_pixels = cv2.countNonZero(green_mask)\n",
    "    total_pixels = cv2.countNonZero(mask)\n",
    "    h,s,v=cv2.split(hsv)\n",
    "    h_value=average_non_zero_pixel(h)\n",
    "    s_value=average_non_zero_pixel(s)\n",
    "    h,s,v=cv2.split(yellow_hsv)\n",
    "    h_y=average_non_zero_pixel(h)\n",
    "    s_y=average_non_zero_pixel(s)\n",
    "    if total_pixels==0:\n",
    "        return 0\n",
    "    ratio_green = green_pixels / total_pixels\n",
    "    return ratio_green,green_pixels,total_pixels-green_pixels,h_value,s_value,h_y,s_y\n"
   ]
  },
  {
   "cell_type": "code",
   "execution_count": 3,
   "id": "e66f8cf0-5c45-4ab4-a0f6-88395539c3ca",
   "metadata": {
    "tags": []
   },
   "outputs": [],
   "source": [
    "table={}\n",
    "for i in glob('../../phone_label/*/*'):\n",
    "    fname=i.split('/')[-1].split('.')[0]\n",
    "    table[fname]=i\n",
    "\n",
    "input_shape=(512,512)\n",
    "model = FreezyNet()\n",
    "\n",
    "device = torch.device('cuda' if torch.cuda.is_available() else 'cpu')\n",
    "model.load_state_dict(torch.load('logs/FreezyNet_/phoneLite.pth', map_location=device))\n",
    "\n",
    "model = nn.DataParallel(model)\n",
    "model = model.cuda()\n",
    "model = model.eval()"
   ]
  },
  {
   "cell_type": "code",
   "execution_count": 154,
   "id": "bbeaa9ac-70b1-4c2f-aca0-13c63fdd546b",
   "metadata": {
    "tags": []
   },
   "outputs": [],
   "source": [
    "    \n",
    "files=sorted(glob('VOCdevkit/VOC2007/SegmentationClass3/*C*.png'))\n",
    "random.seed(6666)\n",
    "random.shuffle(files)\n",
    "files_s=files[:121]\n",
    "validation=0.1\n",
    "val_lines=files_s[:int(validation*len(files_s))]\n",
    "train_lines=files_s[int(validation*len(files_s)):]\n",
    "test_lines=files[121:]\n",
    "len(files)\n",
    "\n",
    "\n",
    "input_shape=(512,512)\n"
   ]
  },
  {
   "cell_type": "code",
   "execution_count": 6,
   "id": "5419a5fe-a643-4c9e-adf5-e8a43eef4b33",
   "metadata": {
    "tags": []
   },
   "outputs": [
    {
     "name": "stderr",
     "output_type": "stream",
     "text": [
      "Progress::   1%|▏         | 2/143 [00:02<02:34,  1.10s/it<class 'dict'>]\n"
     ]
    }
   ],
   "source": [
    "input_shape=(512,512)\n",
    "content='Plot,GreenLeafRation,YellowLeafRation,GreenLeaf,YellowLeafArea,TotalLeafArea,Hue,Sat\\n'\n",
    "save_path='phone_phenotypes.csv'\n",
    "with open(save_path,'w',encoding='utf-8') as f:\n",
    "    f.write(content)\n",
    "load=[]   \n",
    "\n",
    "files.sort()\n",
    "with tqdm(total=len(files),desc='Progress:',postfix=dict,mininterval=0.3) as pbar:\n",
    "    for index,file in enumerate(files):\n",
    "        imgname=file.split('/')[-1].split('.')[0]\n",
    "        image = cv2.imread(file)\n",
    "        h,w=image.shape[:2]\n",
    "        if h<w:\n",
    "            image=cv2.rotate(image,cv2.ROTATE_90_CLOCKWISE)\n",
    "            #label=cv2.rotate(label,cv2.ROTATE_90_CLOCKWISE)\n",
    "            h,w=w,h\n",
    "        ratio=512/w\n",
    "        # find circle\n",
    "        temp=image.copy()\n",
    "        temp=cv2.resize(temp,(int(w*ratio),int(h*ratio)))\n",
    "        gray = cv2.cvtColor(temp, cv2.COLOR_RGB2GRAY)\n",
    "        b,g,r=cv2.split(temp)\n",
    "        crt1=abs(gray.astype(np.int32)-r.astype(np.int32))<50\n",
    "        crt2=abs(gray.astype(np.int32)-g.astype(np.int32))<50\n",
    "        crt3=abs(gray.astype(np.int32)-b.astype(np.int32))<50\n",
    "        rcrt1=r.astype(np.int32)-b.astype(np.int32)>15\n",
    "        rcrt2=g.astype(np.int32)-b.astype(np.int32)>15\n",
    "        rcrt3=abs(r.astype(np.int32)-g.astype(np.int32))>20\n",
    "        rcrt4=cv2.bitwise_and(rcrt1.astype(np.uint8),rcrt2.astype(np.uint8))\n",
    "        rcrt=cv2.bitwise_and(rcrt3.astype(np.uint8),rcrt4.astype(np.uint8))\n",
    "        crt4=gray>100\n",
    "        crt5=cv2.bitwise_and(crt1.astype(np.uint8),crt2.astype(np.uint8))\n",
    "        crt6=cv2.bitwise_and(crt3.astype(np.uint8),crt5.astype(np.uint8))\n",
    "        crt7=cv2.bitwise_and(crt6.astype(np.uint8),1-rcrt2.astype(np.uint8))\n",
    "        mask=cv2.bitwise_and(crt4.astype(np.uint8),crt7.astype(np.uint8))\n",
    "        temp = cv2.bitwise_and(temp, temp, mask=mask)\n",
    "        gray = cv2.cvtColor(temp, cv2.COLOR_RGB2GRAY)\n",
    "        kernel_size = (5, 5) \n",
    "        gray = cv2.blur(gray, kernel_size)\n",
    "        circles = cv2.HoughCircles(gray, cv2.HOUGH_GRADIENT, 2, 500, param1=40, param2=80, minRadius=200, maxRadius=240)\n",
    "        x1,x2,y1,y2=(round((circles[0][0][0]-circles[0][0][2])/ratio),\n",
    "                 round((circles[0][0][0]+circles[0][0][2])/ratio),\n",
    "                 round((circles[0][0][1]-circles[0][0][2])/ratio),\n",
    "                 round((circles[0][0][1]+circles[0][0][2])/ratio))\n",
    "\n",
    "\n",
    "        if y1<0:\n",
    "            y1=0\n",
    "        if y2>h:\n",
    "            y2=h\n",
    "        if x1<0:\n",
    "            x1=0\n",
    "        if x2>w:\n",
    "            x2=w\n",
    "\n",
    "        new=np.zeros((int(h),int(w),3),dtype=np.uint8)\n",
    "        cv2.circle(new, (round(circles[0][0][0]/ratio), round(circles[0][0][1]/ratio)), round(circles[0][0][2]/ratio), (255, 255, 255), -1)\n",
    "        \n",
    "        image=cv2.bitwise_and(image,new)\n",
    "        image=image[y1:y2,x1:x2,:]\n",
    "        cv2.imwrite('{}'.format(os.path.basename(file)),image)\n",
    "         #------------------------------------------#        \n",
    "        image=cv2.resize(image,(input_shape[0],input_shape[0]))\n",
    "\n",
    "        img=torch.from_numpy(image/255).float().cuda()\n",
    "        img=img.unsqueeze(0)\n",
    "        img=img.permute(0,3,1,2)\n",
    "\n",
    "        with torch.no_grad():\n",
    "            output=model(img)\n",
    "        output = output[0].permute(1,2,0).cpu().argmax(axis=-1).numpy().astype(np.uint8)\n",
    "        new = cv2.bitwise_and(image,image,mask=output)\n",
    "\n",
    "        r,g,y,h,s,h_y,s_y=get_green_yello_ratio(new,output)  \n",
    "        \n",
    "\n",
    "        with open(save_path,'a',encoding='utf-8') as f:\n",
    "            f.write('{},{},{},{},{},{},{},{},{},{}\\n'.format(imgname,r,1-r,g,y,g+y,h,s,h_y,s_y))\n",
    "\n",
    "        pbar.update(1)\n",
    "        \n"
   ]
  }
 ],
 "metadata": {
  "kernelspec": {
   "display_name": "Python 3 (ipykernel)",
   "language": "python",
   "name": "python3"
  },
  "language_info": {
   "codemirror_mode": {
    "name": "ipython",
    "version": 3
   },
   "file_extension": ".py",
   "mimetype": "text/x-python",
   "name": "python",
   "nbconvert_exporter": "python",
   "pygments_lexer": "ipython3",
   "version": "3.11.7"
  }
 },
 "nbformat": 4,
 "nbformat_minor": 5
}
