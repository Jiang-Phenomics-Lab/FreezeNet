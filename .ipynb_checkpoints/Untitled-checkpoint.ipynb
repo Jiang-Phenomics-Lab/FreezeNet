{
 "cells": [
  {
   "cell_type": "code",
   "execution_count": 1,
   "id": "d3dbc82e-3bd6-4279-baf6-cd9c4907b217",
   "metadata": {},
   "outputs": [],
   "source": [
    "from PIL import Image\n",
    "\n",
    "# 读取三张图片\n",
    "images = [Image.open('src/n4.jpg'), Image.open('src/n3.jpg'), Image.open('src/n2.jpg')]\n",
    "\n",
    "# 将图片转换为 GIF 格式\n",
    "images[0].save('output.gif', save_all=True, append_images=images[1:], duration=1000, loop=0)\n"
   ]
  }
 ],
 "metadata": {
  "kernelspec": {
   "display_name": "Python 3 (ipykernel)",
   "language": "python",
   "name": "python3"
  },
  "language_info": {
   "codemirror_mode": {
    "name": "ipython",
    "version": 3
   },
   "file_extension": ".py",
   "mimetype": "text/x-python",
   "name": "python",
   "nbconvert_exporter": "python",
   "pygments_lexer": "ipython3",
   "version": "3.11.7"
  }
 },
 "nbformat": 4,
 "nbformat_minor": 5
}
