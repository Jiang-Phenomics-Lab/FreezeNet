{
 "cells": [
  {
   "cell_type": "code",
   "execution_count": 3,
   "id": "d3dbc82e-3bd6-4279-baf6-cd9c4907b217",
   "metadata": {},
   "outputs": [],
   "source": [
    "from PIL import Image\n",
    "\n",
    "# 读取三张图片\n",
    "images = [Image.open('src/n4.jpg'), Image.open('src/n3.jpg'), Image.open('src/n2.jpg')]\n",
    "\n",
    "# 将图片转换为 GIF 格式\n",
    "images[0].save('yellow.gif', save_all=True, append_images=images[1:], duration=500, loop=0)\n",
    "images = [Image.open('src/n4.jpg'), Image.open('src/n3.jpg'), Image.open('src/n1.jpg')]\n",
    "\n",
    "images[0].save('green.gif', save_all=True, append_images=images[1:], duration=500, loop=0)\n"
   ]
  },
  {
   "cell_type": "code",
   "execution_count": 4,
   "id": "b93ed8b5-4107-4857-a54b-c298d1bde37f",
   "metadata": {},
   "outputs": [],
   "source": [
    "from PIL import Image, ImageSequence\n",
    "\n",
    "# 读取两个 GIF 文件\n",
    "gif1 = Image.open('./assets/green.gif')\n",
    "gif2 = Image.open('./assets/yellow.gif')\n",
    "\n",
    "# 获取每个 GIF 的帧数和尺寸\n",
    "frames1 = [frame.copy() for frame in ImageSequence.Iterator(gif1)]\n",
    "frames2 = [frame.copy() for frame in ImageSequence.Iterator(gif2)]\n",
    "\n",
    "# 确定输出 GIF 的宽度和高度\n",
    "width1, height1 = frames1[0].size\n",
    "width2, height2 = frames2[0].size\n",
    "\n",
    "# 设置中间空白区域的宽度（可以根据需要调整）\n",
    "gap = 20  # 空白区域的宽度\n",
    "\n",
    "# 新图像的宽度 = 两个 GIF 的宽度之和 + 空白区域， 高度 = 最大的高度\n",
    "new_width = width1 + width2 + gap\n",
    "new_height = max(height1, height2)\n",
    "\n",
    "# 保存合并后的 GIF\n",
    "frames_combined = []\n",
    "for frame1, frame2 in zip(frames1, frames2):\n",
    "    # 创建一个新的空白图像\n",
    "    new_frame = Image.new('RGBA', (new_width, new_height), (255, 255, 255, 0))\n",
    "    \n",
    "    # 将第一个 GIF 的帧粘贴到新图像的左边\n",
    "    new_frame.paste(frame1, (0, 0))\n",
    "    \n",
    "    # 将第二个 GIF 的帧粘贴到新图像的右边，留出 gap 宽度的空白\n",
    "    new_frame.paste(frame2, (width1 + gap, 0))\n",
    "    \n",
    "    frames_combined.append(new_frame)\n",
    "\n",
    "# 保存成新的 GIF 文件\n",
    "frames_combined[0].save('./assets/combined.gif', save_all=True, append_images=frames_combined[1:], duration=500, loop=0)\n"
   ]
  }
 ],
 "metadata": {
  "kernelspec": {
   "display_name": "Python 3 (ipykernel)",
   "language": "python",
   "name": "python3"
  },
  "language_info": {
   "codemirror_mode": {
    "name": "ipython",
    "version": 3
   },
   "file_extension": ".py",
   "mimetype": "text/x-python",
   "name": "python",
   "nbconvert_exporter": "python",
   "pygments_lexer": "ipython3",
   "version": "3.11.7"
  }
 },
 "nbformat": 4,
 "nbformat_minor": 5
}
